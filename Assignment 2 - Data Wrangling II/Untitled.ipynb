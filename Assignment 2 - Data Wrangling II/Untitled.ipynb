{
 "cells": [
  {
   "cell_type": "code",
   "execution_count": 1,
   "id": "fc1d710e",
   "metadata": {},
   "outputs": [],
   "source": [
    "import pandas as pd\n",
    "import numpy as np\n",
    "import seaborn as sns\n",
    "import matplotlib.pyplot as plt"
   ]
  },
  {
   "cell_type": "code",
   "execution_count": 7,
   "id": "f46503a4",
   "metadata": {},
   "outputs": [],
   "source": [
    "df = pd.read_csv('student_data_1.csv')"
   ]
  },
  {
   "cell_type": "code",
   "execution_count": 8,
   "id": "ca606555",
   "metadata": {},
   "outputs": [
    {
     "data": {
      "text/html": [
       "<div>\n",
       "<style scoped>\n",
       "    .dataframe tbody tr th:only-of-type {\n",
       "        vertical-align: middle;\n",
       "    }\n",
       "\n",
       "    .dataframe tbody tr th {\n",
       "        vertical-align: top;\n",
       "    }\n",
       "\n",
       "    .dataframe thead th {\n",
       "        text-align: right;\n",
       "    }\n",
       "</style>\n",
       "<table border=\"1\" class=\"dataframe\">\n",
       "  <thead>\n",
       "    <tr style=\"text-align: right;\">\n",
       "      <th></th>\n",
       "      <th>Roll Number</th>\n",
       "      <th>First Name</th>\n",
       "      <th>Middle Initial</th>\n",
       "      <th>Last Name</th>\n",
       "      <th>Gender</th>\n",
       "      <th>No of subjects</th>\n",
       "      <th>CC</th>\n",
       "      <th>WT</th>\n",
       "      <th>AI</th>\n",
       "      <th>DSBDA</th>\n",
       "      <th>CGPA</th>\n",
       "      <th>Attendance</th>\n",
       "    </tr>\n",
       "  </thead>\n",
       "  <tbody>\n",
       "    <tr>\n",
       "      <th>0</th>\n",
       "      <td>31401.0</td>\n",
       "      <td>Lois</td>\n",
       "      <td>H</td>\n",
       "      <td>Walker</td>\n",
       "      <td>F</td>\n",
       "      <td>4</td>\n",
       "      <td>76</td>\n",
       "      <td>54</td>\n",
       "      <td>56</td>\n",
       "      <td>64</td>\n",
       "      <td>62.50</td>\n",
       "      <td>89</td>\n",
       "    </tr>\n",
       "    <tr>\n",
       "      <th>1</th>\n",
       "      <td>31402.0</td>\n",
       "      <td>Brenda</td>\n",
       "      <td>S</td>\n",
       "      <td>Robinson</td>\n",
       "      <td>F</td>\n",
       "      <td>4</td>\n",
       "      <td>64</td>\n",
       "      <td>41</td>\n",
       "      <td>97</td>\n",
       "      <td>51</td>\n",
       "      <td>63.25</td>\n",
       "      <td>95</td>\n",
       "    </tr>\n",
       "    <tr>\n",
       "      <th>2</th>\n",
       "      <td>31403.0</td>\n",
       "      <td>Joe</td>\n",
       "      <td>W</td>\n",
       "      <td>Robinson</td>\n",
       "      <td>M</td>\n",
       "      <td>4</td>\n",
       "      <td>81</td>\n",
       "      <td>46</td>\n",
       "      <td>56</td>\n",
       "      <td>64</td>\n",
       "      <td>61.75</td>\n",
       "      <td>70</td>\n",
       "    </tr>\n",
       "    <tr>\n",
       "      <th>3</th>\n",
       "      <td>31404.0</td>\n",
       "      <td>Diane</td>\n",
       "      <td>I</td>\n",
       "      <td>Evans</td>\n",
       "      <td>F</td>\n",
       "      <td>4</td>\n",
       "      <td>48</td>\n",
       "      <td>60</td>\n",
       "      <td>60</td>\n",
       "      <td>44</td>\n",
       "      <td>53.00</td>\n",
       "      <td>61</td>\n",
       "    </tr>\n",
       "    <tr>\n",
       "      <th>4</th>\n",
       "      <td>NaN</td>\n",
       "      <td>Benjamin</td>\n",
       "      <td>R</td>\n",
       "      <td>Russell</td>\n",
       "      <td>M</td>\n",
       "      <td>4</td>\n",
       "      <td>55</td>\n",
       "      <td>58</td>\n",
       "      <td>78</td>\n",
       "      <td>47</td>\n",
       "      <td>59.50</td>\n",
       "      <td>64</td>\n",
       "    </tr>\n",
       "  </tbody>\n",
       "</table>\n",
       "</div>"
      ],
      "text/plain": [
       "   Roll Number First Name Middle Initial Last Name Gender  No of subjects  CC   \n",
       "0      31401.0       Lois              H    Walker      F               4  76  \\\n",
       "1      31402.0     Brenda              S  Robinson      F               4  64   \n",
       "2      31403.0        Joe              W  Robinson      M               4  81   \n",
       "3      31404.0      Diane              I     Evans      F               4  48   \n",
       "4          NaN   Benjamin              R   Russell      M               4  55   \n",
       "\n",
       "   WT  AI  DSBDA   CGPA  Attendance  \n",
       "0  54  56     64  62.50          89  \n",
       "1  41  97     51  63.25          95  \n",
       "2  46  56     64  61.75          70  \n",
       "3  60  60     44  53.00          61  \n",
       "4  58  78     47  59.50          64  "
      ]
     },
     "execution_count": 8,
     "metadata": {},
     "output_type": "execute_result"
    }
   ],
   "source": [
    "df.head()"
   ]
  },
  {
   "cell_type": "code",
   "execution_count": 9,
   "id": "086c78af",
   "metadata": {},
   "outputs": [
    {
     "data": {
      "text/plain": [
       "Roll Number       1\n",
       "First Name        0\n",
       "Middle Initial    0\n",
       "Last Name         0\n",
       "Gender            0\n",
       "No of subjects    0\n",
       "CC                0\n",
       "WT                0\n",
       "AI                0\n",
       "DSBDA             0\n",
       "CGPA              0\n",
       "Attendance        0\n",
       "dtype: int64"
      ]
     },
     "execution_count": 9,
     "metadata": {},
     "output_type": "execute_result"
    }
   ],
   "source": [
    "df.isnull().sum()"
   ]
  },
  {
   "cell_type": "code",
   "execution_count": 28,
   "id": "30f3a6c3",
   "metadata": {},
   "outputs": [
    {
     "name": "stdout",
     "output_type": "stream",
     "text": [
      "75.8\n"
     ]
    },
    {
     "data": {
      "text/html": [
       "<div>\n",
       "<style scoped>\n",
       "    .dataframe tbody tr th:only-of-type {\n",
       "        vertical-align: middle;\n",
       "    }\n",
       "\n",
       "    .dataframe tbody tr th {\n",
       "        vertical-align: top;\n",
       "    }\n",
       "\n",
       "    .dataframe thead th {\n",
       "        text-align: right;\n",
       "    }\n",
       "</style>\n",
       "<table border=\"1\" class=\"dataframe\">\n",
       "  <thead>\n",
       "    <tr style=\"text-align: right;\">\n",
       "      <th></th>\n",
       "      <th>Roll Number</th>\n",
       "      <th>First Name</th>\n",
       "      <th>Middle Initial</th>\n",
       "      <th>Last Name</th>\n",
       "      <th>Gender</th>\n",
       "      <th>No of subjects</th>\n",
       "      <th>CC</th>\n",
       "      <th>WT</th>\n",
       "      <th>AI</th>\n",
       "      <th>DSBDA</th>\n",
       "      <th>CGPA</th>\n",
       "      <th>Attendance</th>\n",
       "    </tr>\n",
       "  </thead>\n",
       "  <tbody>\n",
       "    <tr>\n",
       "      <th>0</th>\n",
       "      <td>31401.0</td>\n",
       "      <td>Lois</td>\n",
       "      <td>H</td>\n",
       "      <td>Walker</td>\n",
       "      <td>F</td>\n",
       "      <td>4</td>\n",
       "      <td>76</td>\n",
       "      <td>54</td>\n",
       "      <td>56</td>\n",
       "      <td>64</td>\n",
       "      <td>9.268293</td>\n",
       "      <td>75.8</td>\n",
       "    </tr>\n",
       "    <tr>\n",
       "      <th>1</th>\n",
       "      <td>31402.0</td>\n",
       "      <td>Brenda</td>\n",
       "      <td>S</td>\n",
       "      <td>Robinson</td>\n",
       "      <td>F</td>\n",
       "      <td>4</td>\n",
       "      <td>64</td>\n",
       "      <td>41</td>\n",
       "      <td>97</td>\n",
       "      <td>51</td>\n",
       "      <td>10.000000</td>\n",
       "      <td>75.8</td>\n",
       "    </tr>\n",
       "    <tr>\n",
       "      <th>2</th>\n",
       "      <td>31403.0</td>\n",
       "      <td>Joe</td>\n",
       "      <td>W</td>\n",
       "      <td>Robinson</td>\n",
       "      <td>M</td>\n",
       "      <td>4</td>\n",
       "      <td>81</td>\n",
       "      <td>46</td>\n",
       "      <td>56</td>\n",
       "      <td>64</td>\n",
       "      <td>8.536585</td>\n",
       "      <td>75.8</td>\n",
       "    </tr>\n",
       "    <tr>\n",
       "      <th>3</th>\n",
       "      <td>31404.0</td>\n",
       "      <td>Diane</td>\n",
       "      <td>I</td>\n",
       "      <td>Evans</td>\n",
       "      <td>F</td>\n",
       "      <td>4</td>\n",
       "      <td>48</td>\n",
       "      <td>60</td>\n",
       "      <td>60</td>\n",
       "      <td>44</td>\n",
       "      <td>0.000000</td>\n",
       "      <td>75.8</td>\n",
       "    </tr>\n",
       "  </tbody>\n",
       "</table>\n",
       "</div>"
      ],
      "text/plain": [
       "   Roll Number First Name Middle Initial Last Name Gender  No of subjects  CC   \n",
       "0      31401.0       Lois              H    Walker      F               4  76  \\\n",
       "1      31402.0     Brenda              S  Robinson      F               4  64   \n",
       "2      31403.0        Joe              W  Robinson      M               4  81   \n",
       "3      31404.0      Diane              I     Evans      F               4  48   \n",
       "\n",
       "   WT  AI  DSBDA       CGPA  Attendance  \n",
       "0  54  56     64   9.268293        75.8  \n",
       "1  41  97     51  10.000000        75.8  \n",
       "2  46  56     64   8.536585        75.8  \n",
       "3  60  60     44   0.000000        75.8  "
      ]
     },
     "execution_count": 28,
     "metadata": {},
     "output_type": "execute_result"
    }
   ],
   "source": [
    "attendance_mean = df['Attendance'].mean()\n",
    "print(attendance_mean)\n",
    "df['Attendance'].replace(np.NaN, attendance_mean, inplace=True)\n",
    "df.head()"
   ]
  },
  {
   "cell_type": "code",
   "execution_count": 14,
   "id": "bca041f9",
   "metadata": {},
   "outputs": [
    {
     "data": {
      "text/plain": [
       "Roll Number       0\n",
       "First Name        0\n",
       "Middle Initial    0\n",
       "Last Name         0\n",
       "Gender            0\n",
       "No of subjects    0\n",
       "CC                0\n",
       "WT                0\n",
       "AI                0\n",
       "DSBDA             0\n",
       "CGPA              0\n",
       "Attendance        0\n",
       "dtype: int64"
      ]
     },
     "execution_count": 14,
     "metadata": {},
     "output_type": "execute_result"
    }
   ],
   "source": [
    "df.dropna(subset = 'Roll Number', inplace=True)\n",
    "df.isnull().sum()"
   ]
  },
  {
   "cell_type": "code",
   "execution_count": 15,
   "id": "416cb793",
   "metadata": {},
   "outputs": [
    {
     "data": {
      "text/plain": [
       "(4, 12)"
      ]
     },
     "execution_count": 15,
     "metadata": {},
     "output_type": "execute_result"
    }
   ],
   "source": [
    "df.shape"
   ]
  },
  {
   "cell_type": "code",
   "execution_count": 16,
   "id": "47068ab1",
   "metadata": {},
   "outputs": [
    {
     "data": {
      "text/plain": [
       "Roll Number       float64\n",
       "First Name         object\n",
       "Middle Initial     object\n",
       "Last Name          object\n",
       "Gender             object\n",
       "No of subjects      int64\n",
       "CC                  int64\n",
       "WT                  int64\n",
       "AI                  int64\n",
       "DSBDA               int64\n",
       "CGPA              float64\n",
       "Attendance        float64\n",
       "dtype: object"
      ]
     },
     "execution_count": 16,
     "metadata": {},
     "output_type": "execute_result"
    }
   ],
   "source": [
    "df.dtypes"
   ]
  },
  {
   "cell_type": "code",
   "execution_count": 17,
   "id": "149de880",
   "metadata": {},
   "outputs": [
    {
     "name": "stdout",
     "output_type": "stream",
     "text": [
      "<class 'pandas.core.frame.DataFrame'>\n",
      "Index: 4 entries, 0 to 3\n",
      "Data columns (total 12 columns):\n",
      " #   Column          Non-Null Count  Dtype  \n",
      "---  ------          --------------  -----  \n",
      " 0   Roll Number     4 non-null      float64\n",
      " 1   First Name      4 non-null      object \n",
      " 2   Middle Initial  4 non-null      object \n",
      " 3   Last Name       4 non-null      object \n",
      " 4   Gender          4 non-null      object \n",
      " 5   No of subjects  4 non-null      int64  \n",
      " 6   CC              4 non-null      int64  \n",
      " 7   WT              4 non-null      int64  \n",
      " 8   AI              4 non-null      int64  \n",
      " 9   DSBDA           4 non-null      int64  \n",
      " 10  CGPA            4 non-null      float64\n",
      " 11  Attendance      4 non-null      float64\n",
      "dtypes: float64(3), int64(5), object(4)\n",
      "memory usage: 416.0+ bytes\n"
     ]
    }
   ],
   "source": [
    "df.info()"
   ]
  },
  {
   "cell_type": "code",
   "execution_count": 18,
   "id": "6eb58f28",
   "metadata": {},
   "outputs": [
    {
     "data": {
      "text/html": [
       "<div>\n",
       "<style scoped>\n",
       "    .dataframe tbody tr th:only-of-type {\n",
       "        vertical-align: middle;\n",
       "    }\n",
       "\n",
       "    .dataframe tbody tr th {\n",
       "        vertical-align: top;\n",
       "    }\n",
       "\n",
       "    .dataframe thead th {\n",
       "        text-align: right;\n",
       "    }\n",
       "</style>\n",
       "<table border=\"1\" class=\"dataframe\">\n",
       "  <thead>\n",
       "    <tr style=\"text-align: right;\">\n",
       "      <th></th>\n",
       "      <th>Roll Number</th>\n",
       "      <th>No of subjects</th>\n",
       "      <th>CC</th>\n",
       "      <th>WT</th>\n",
       "      <th>AI</th>\n",
       "      <th>DSBDA</th>\n",
       "      <th>CGPA</th>\n",
       "      <th>Attendance</th>\n",
       "    </tr>\n",
       "  </thead>\n",
       "  <tbody>\n",
       "    <tr>\n",
       "      <th>count</th>\n",
       "      <td>4.000000</td>\n",
       "      <td>4.0</td>\n",
       "      <td>4.000000</td>\n",
       "      <td>4.000000</td>\n",
       "      <td>4.000000</td>\n",
       "      <td>4.000000</td>\n",
       "      <td>4.000000</td>\n",
       "      <td>4.0</td>\n",
       "    </tr>\n",
       "    <tr>\n",
       "      <th>mean</th>\n",
       "      <td>31402.500000</td>\n",
       "      <td>4.0</td>\n",
       "      <td>67.250000</td>\n",
       "      <td>50.250000</td>\n",
       "      <td>67.250000</td>\n",
       "      <td>55.750000</td>\n",
       "      <td>60.125000</td>\n",
       "      <td>75.8</td>\n",
       "    </tr>\n",
       "    <tr>\n",
       "      <th>std</th>\n",
       "      <td>1.290994</td>\n",
       "      <td>0.0</td>\n",
       "      <td>14.682756</td>\n",
       "      <td>8.421203</td>\n",
       "      <td>19.922768</td>\n",
       "      <td>9.945686</td>\n",
       "      <td>4.789311</td>\n",
       "      <td>0.0</td>\n",
       "    </tr>\n",
       "    <tr>\n",
       "      <th>min</th>\n",
       "      <td>31401.000000</td>\n",
       "      <td>4.0</td>\n",
       "      <td>48.000000</td>\n",
       "      <td>41.000000</td>\n",
       "      <td>56.000000</td>\n",
       "      <td>44.000000</td>\n",
       "      <td>53.000000</td>\n",
       "      <td>75.8</td>\n",
       "    </tr>\n",
       "    <tr>\n",
       "      <th>25%</th>\n",
       "      <td>31401.750000</td>\n",
       "      <td>4.0</td>\n",
       "      <td>60.000000</td>\n",
       "      <td>44.750000</td>\n",
       "      <td>56.000000</td>\n",
       "      <td>49.250000</td>\n",
       "      <td>59.562500</td>\n",
       "      <td>75.8</td>\n",
       "    </tr>\n",
       "    <tr>\n",
       "      <th>50%</th>\n",
       "      <td>31402.500000</td>\n",
       "      <td>4.0</td>\n",
       "      <td>70.000000</td>\n",
       "      <td>50.000000</td>\n",
       "      <td>58.000000</td>\n",
       "      <td>57.500000</td>\n",
       "      <td>62.125000</td>\n",
       "      <td>75.8</td>\n",
       "    </tr>\n",
       "    <tr>\n",
       "      <th>75%</th>\n",
       "      <td>31403.250000</td>\n",
       "      <td>4.0</td>\n",
       "      <td>77.250000</td>\n",
       "      <td>55.500000</td>\n",
       "      <td>69.250000</td>\n",
       "      <td>64.000000</td>\n",
       "      <td>62.687500</td>\n",
       "      <td>75.8</td>\n",
       "    </tr>\n",
       "    <tr>\n",
       "      <th>max</th>\n",
       "      <td>31404.000000</td>\n",
       "      <td>4.0</td>\n",
       "      <td>81.000000</td>\n",
       "      <td>60.000000</td>\n",
       "      <td>97.000000</td>\n",
       "      <td>64.000000</td>\n",
       "      <td>63.250000</td>\n",
       "      <td>75.8</td>\n",
       "    </tr>\n",
       "  </tbody>\n",
       "</table>\n",
       "</div>"
      ],
      "text/plain": [
       "        Roll Number  No of subjects         CC         WT         AI   \n",
       "count      4.000000             4.0   4.000000   4.000000   4.000000  \\\n",
       "mean   31402.500000             4.0  67.250000  50.250000  67.250000   \n",
       "std        1.290994             0.0  14.682756   8.421203  19.922768   \n",
       "min    31401.000000             4.0  48.000000  41.000000  56.000000   \n",
       "25%    31401.750000             4.0  60.000000  44.750000  56.000000   \n",
       "50%    31402.500000             4.0  70.000000  50.000000  58.000000   \n",
       "75%    31403.250000             4.0  77.250000  55.500000  69.250000   \n",
       "max    31404.000000             4.0  81.000000  60.000000  97.000000   \n",
       "\n",
       "           DSBDA       CGPA  Attendance  \n",
       "count   4.000000   4.000000         4.0  \n",
       "mean   55.750000  60.125000        75.8  \n",
       "std     9.945686   4.789311         0.0  \n",
       "min    44.000000  53.000000        75.8  \n",
       "25%    49.250000  59.562500        75.8  \n",
       "50%    57.500000  62.125000        75.8  \n",
       "75%    64.000000  62.687500        75.8  \n",
       "max    64.000000  63.250000        75.8  "
      ]
     },
     "execution_count": 18,
     "metadata": {},
     "output_type": "execute_result"
    }
   ],
   "source": [
    "df.describe()"
   ]
  },
  {
   "cell_type": "code",
   "execution_count": 19,
   "id": "d1ca852e",
   "metadata": {},
   "outputs": [
    {
     "data": {
      "text/plain": [
       "53.0"
      ]
     },
     "execution_count": 19,
     "metadata": {},
     "output_type": "execute_result"
    }
   ],
   "source": [
    "df['CGPA'].min()"
   ]
  },
  {
   "cell_type": "code",
   "execution_count": 20,
   "id": "a6f46445",
   "metadata": {},
   "outputs": [
    {
     "data": {
      "text/plain": [
       "63.25"
      ]
     },
     "execution_count": 20,
     "metadata": {},
     "output_type": "execute_result"
    }
   ],
   "source": [
    "df['CGPA'].max()"
   ]
  },
  {
   "cell_type": "code",
   "execution_count": 21,
   "id": "a4cd4256",
   "metadata": {},
   "outputs": [
    {
     "data": {
      "text/plain": [
       "<Axes: >"
      ]
     },
     "execution_count": 21,
     "metadata": {},
     "output_type": "execute_result"
    },
    {
     "data": {
      "image/png": "[encoded data removed]",
      "text/plain": [
       "<Figure size 640x480 with 1 Axes>"
      ]
     },
     "metadata": {},
     "output_type": "display_data"
    }
   ],
   "source": [
    "df['CGPA'].plot(kind='box')"
   ]
  },
  {
   "cell_type": "code",
   "execution_count": 22,
   "id": "8e0c0c69",
   "metadata": {},
   "outputs": [
    {
     "data": {
      "text/plain": [
       "<Axes: ylabel='Frequency'>"
      ]
     },
     "execution_count": 22,
     "metadata": {},
     "output_type": "execute_result"
    },
    {
     "data": {
      "image/png": "[encoded data removed]",
      "text/plain": [
       "<Figure size 640x480 with 1 Axes>"
      ]
     },
     "metadata": {},
     "output_type": "display_data"
    }
   ],
   "source": [
    "df['CGPA'].plot(kind = 'hist')"
   ]
  },
  {
   "cell_type": "code",
   "execution_count": 29,
   "id": "059aea62",
   "metadata": {},
   "outputs": [],
   "source": [
    "from sklearn.preprocessing import MinMaxScaler\n",
    "\n",
    "# Create a MinMaxScaler with a specified feature range of (0, 10)\n",
    "scaler = MinMaxScaler(feature_range=(0, 10))\n",
    "\n",
    "# Extract the 'CGPA' column and reshape it to a 2D array\n",
    "data_2d = df['CGPA'].values.reshape(-1, 1)\n",
    "\n",
    "# Scale the 'CGPA' values to the range of (0, 10)\n",
    "df['CGPA'] = scaler.fit_transform(data_2d)\n"
   ]
  },
  {
   "cell_type": "code",
   "execution_count": 24,
   "id": "fc17c1d2",
   "metadata": {},
   "outputs": [
    {
     "data": {
      "text/html": [
       "<div>\n",
       "<style scoped>\n",
       "    .dataframe tbody tr th:only-of-type {\n",
       "        vertical-align: middle;\n",
       "    }\n",
       "\n",
       "    .dataframe tbody tr th {\n",
       "        vertical-align: top;\n",
       "    }\n",
       "\n",
       "    .dataframe thead th {\n",
       "        text-align: right;\n",
       "    }\n",
       "</style>\n",
       "<table border=\"1\" class=\"dataframe\">\n",
       "  <thead>\n",
       "    <tr style=\"text-align: right;\">\n",
       "      <th></th>\n",
       "      <th>Roll Number</th>\n",
       "      <th>First Name</th>\n",
       "      <th>Middle Initial</th>\n",
       "      <th>Last Name</th>\n",
       "      <th>Gender</th>\n",
       "      <th>No of subjects</th>\n",
       "      <th>CC</th>\n",
       "      <th>WT</th>\n",
       "      <th>AI</th>\n",
       "      <th>DSBDA</th>\n",
       "      <th>CGPA</th>\n",
       "      <th>Attendance</th>\n",
       "    </tr>\n",
       "  </thead>\n",
       "  <tbody>\n",
       "    <tr>\n",
       "      <th>0</th>\n",
       "      <td>31401.0</td>\n",
       "      <td>Lois</td>\n",
       "      <td>H</td>\n",
       "      <td>Walker</td>\n",
       "      <td>F</td>\n",
       "      <td>4</td>\n",
       "      <td>76</td>\n",
       "      <td>54</td>\n",
       "      <td>56</td>\n",
       "      <td>64</td>\n",
       "      <td>9.268293</td>\n",
       "      <td>75.8</td>\n",
       "    </tr>\n",
       "    <tr>\n",
       "      <th>1</th>\n",
       "      <td>31402.0</td>\n",
       "      <td>Brenda</td>\n",
       "      <td>S</td>\n",
       "      <td>Robinson</td>\n",
       "      <td>F</td>\n",
       "      <td>4</td>\n",
       "      <td>64</td>\n",
       "      <td>41</td>\n",
       "      <td>97</td>\n",
       "      <td>51</td>\n",
       "      <td>10.000000</td>\n",
       "      <td>75.8</td>\n",
       "    </tr>\n",
       "    <tr>\n",
       "      <th>2</th>\n",
       "      <td>31403.0</td>\n",
       "      <td>Joe</td>\n",
       "      <td>W</td>\n",
       "      <td>Robinson</td>\n",
       "      <td>M</td>\n",
       "      <td>4</td>\n",
       "      <td>81</td>\n",
       "      <td>46</td>\n",
       "      <td>56</td>\n",
       "      <td>64</td>\n",
       "      <td>8.536585</td>\n",
       "      <td>75.8</td>\n",
       "    </tr>\n",
       "    <tr>\n",
       "      <th>3</th>\n",
       "      <td>31404.0</td>\n",
       "      <td>Diane</td>\n",
       "      <td>I</td>\n",
       "      <td>Evans</td>\n",
       "      <td>F</td>\n",
       "      <td>4</td>\n",
       "      <td>48</td>\n",
       "      <td>60</td>\n",
       "      <td>60</td>\n",
       "      <td>44</td>\n",
       "      <td>0.000000</td>\n",
       "      <td>75.8</td>\n",
       "    </tr>\n",
       "  </tbody>\n",
       "</table>\n",
       "</div>"
      ],
      "text/plain": [
       "   Roll Number First Name Middle Initial Last Name Gender  No of subjects  CC   \n",
       "0      31401.0       Lois              H    Walker      F               4  76  \\\n",
       "1      31402.0     Brenda              S  Robinson      F               4  64   \n",
       "2      31403.0        Joe              W  Robinson      M               4  81   \n",
       "3      31404.0      Diane              I     Evans      F               4  48   \n",
       "\n",
       "   WT  AI  DSBDA       CGPA  Attendance  \n",
       "0  54  56     64   9.268293        75.8  \n",
       "1  41  97     51  10.000000        75.8  \n",
       "2  46  56     64   8.536585        75.8  \n",
       "3  60  60     44   0.000000        75.8  "
      ]
     },
     "execution_count": 24,
     "metadata": {},
     "output_type": "execute_result"
    }
   ],
   "source": [
    "df.head()"
   ]
  },
  {
   "cell_type": "code",
   "execution_count": 25,
   "id": "7d2f380d",
   "metadata": {},
   "outputs": [
    {
     "data": {
      "text/plain": [
       "<Axes: ylabel='Frequency'>"
      ]
     },
     "execution_count": 25,
     "metadata": {},
     "output_type": "execute_result"
    },
    {
     "data": {
      "image/png": "[encoded data removed]",
      "text/plain": [
       "<Figure size 640x480 with 1 Axes>"
      ]
     },
     "metadata": {},
     "output_type": "display_data"
    }
   ],
   "source": [
    "df['CGPA'].plot(kind='hist')"
   ]
  },
  {
   "cell_type": "code",
   "execution_count": 31,
   "id": "e9d2af1d",
   "metadata": {},
   "outputs": [
    {
     "data": {
      "text/html": [
       "<div>\n",
       "<style scoped>\n",
       "    .dataframe tbody tr th:only-of-type {\n",
       "        vertical-align: middle;\n",
       "    }\n",
       "\n",
       "    .dataframe tbody tr th {\n",
       "        vertical-align: top;\n",
       "    }\n",
       "\n",
       "    .dataframe thead th {\n",
       "        text-align: right;\n",
       "    }\n",
       "</style>\n",
       "<table border=\"1\" class=\"dataframe\">\n",
       "  <thead>\n",
       "    <tr style=\"text-align: right;\">\n",
       "      <th></th>\n",
       "      <th>Roll Number</th>\n",
       "      <th>First Name</th>\n",
       "      <th>Middle Initial</th>\n",
       "      <th>Last Name</th>\n",
       "      <th>Gender</th>\n",
       "      <th>No of subjects</th>\n",
       "      <th>CC</th>\n",
       "      <th>WT</th>\n",
       "      <th>AI</th>\n",
       "      <th>DSBDA</th>\n",
       "      <th>CGPA</th>\n",
       "      <th>Attendance</th>\n",
       "    </tr>\n",
       "  </thead>\n",
       "  <tbody>\n",
       "    <tr>\n",
       "      <th>0</th>\n",
       "      <td>31401.0</td>\n",
       "      <td>Lois</td>\n",
       "      <td>H</td>\n",
       "      <td>Walker</td>\n",
       "      <td>F</td>\n",
       "      <td>4</td>\n",
       "      <td>76</td>\n",
       "      <td>54</td>\n",
       "      <td>56</td>\n",
       "      <td>64</td>\n",
       "      <td>9.268293</td>\n",
       "      <td>75.8</td>\n",
       "    </tr>\n",
       "    <tr>\n",
       "      <th>1</th>\n",
       "      <td>31402.0</td>\n",
       "      <td>Brenda</td>\n",
       "      <td>S</td>\n",
       "      <td>Robinson</td>\n",
       "      <td>F</td>\n",
       "      <td>4</td>\n",
       "      <td>64</td>\n",
       "      <td>41</td>\n",
       "      <td>97</td>\n",
       "      <td>51</td>\n",
       "      <td>10.000000</td>\n",
       "      <td>75.8</td>\n",
       "    </tr>\n",
       "    <tr>\n",
       "      <th>2</th>\n",
       "      <td>31403.0</td>\n",
       "      <td>Joe</td>\n",
       "      <td>W</td>\n",
       "      <td>Robinson</td>\n",
       "      <td>M</td>\n",
       "      <td>4</td>\n",
       "      <td>81</td>\n",
       "      <td>46</td>\n",
       "      <td>56</td>\n",
       "      <td>64</td>\n",
       "      <td>8.536585</td>\n",
       "      <td>75.8</td>\n",
       "    </tr>\n",
       "    <tr>\n",
       "      <th>3</th>\n",
       "      <td>31404.0</td>\n",
       "      <td>Diane</td>\n",
       "      <td>I</td>\n",
       "      <td>Evans</td>\n",
       "      <td>F</td>\n",
       "      <td>4</td>\n",
       "      <td>48</td>\n",
       "      <td>60</td>\n",
       "      <td>60</td>\n",
       "      <td>44</td>\n",
       "      <td>0.000000</td>\n",
       "      <td>75.8</td>\n",
       "    </tr>\n",
       "  </tbody>\n",
       "</table>\n",
       "</div>"
      ],
      "text/plain": [
       "   Roll Number First Name Middle Initial Last Name Gender  No of subjects  CC   \n",
       "0      31401.0       Lois              H    Walker      F               4  76  \\\n",
       "1      31402.0     Brenda              S  Robinson      F               4  64   \n",
       "2      31403.0        Joe              W  Robinson      M               4  81   \n",
       "3      31404.0      Diane              I     Evans      F               4  48   \n",
       "\n",
       "   WT  AI  DSBDA       CGPA  Attendance  \n",
       "0  54  56     64   9.268293        75.8  \n",
       "1  41  97     51  10.000000        75.8  \n",
       "2  46  56     64   8.536585        75.8  \n",
       "3  60  60     44   0.000000        75.8  "
      ]
     },
     "execution_count": 31,
     "metadata": {},
     "output_type": "execute_result"
    }
   ],
   "source": [
    "df.head()"
   ]
  },
  {
   "cell_type": "code",
   "execution_count": 34,
   "id": "b5b260ed",
   "metadata": {},
   "outputs": [
    {
     "data": {
      "text/html": [
       "<div>\n",
       "<style scoped>\n",
       "    .dataframe tbody tr th:only-of-type {\n",
       "        vertical-align: middle;\n",
       "    }\n",
       "\n",
       "    .dataframe tbody tr th {\n",
       "        vertical-align: top;\n",
       "    }\n",
       "\n",
       "    .dataframe thead th {\n",
       "        text-align: right;\n",
       "    }\n",
       "</style>\n",
       "<table border=\"1\" class=\"dataframe\">\n",
       "  <thead>\n",
       "    <tr style=\"text-align: right;\">\n",
       "      <th></th>\n",
       "      <th>No of subjects</th>\n",
       "      <th>CC</th>\n",
       "      <th>WT</th>\n",
       "      <th>DSBDA</th>\n",
       "      <th>CGPA</th>\n",
       "      <th>Attendance</th>\n",
       "    </tr>\n",
       "  </thead>\n",
       "  <tbody>\n",
       "    <tr>\n",
       "      <th>0</th>\n",
       "      <td>4</td>\n",
       "      <td>76</td>\n",
       "      <td>54</td>\n",
       "      <td>64</td>\n",
       "      <td>9.268293</td>\n",
       "      <td>75.8</td>\n",
       "    </tr>\n",
       "    <tr>\n",
       "      <th>1</th>\n",
       "      <td>4</td>\n",
       "      <td>64</td>\n",
       "      <td>41</td>\n",
       "      <td>51</td>\n",
       "      <td>10.000000</td>\n",
       "      <td>75.8</td>\n",
       "    </tr>\n",
       "    <tr>\n",
       "      <th>2</th>\n",
       "      <td>4</td>\n",
       "      <td>81</td>\n",
       "      <td>46</td>\n",
       "      <td>64</td>\n",
       "      <td>8.536585</td>\n",
       "      <td>75.8</td>\n",
       "    </tr>\n",
       "  </tbody>\n",
       "</table>\n",
       "</div>"
      ],
      "text/plain": [
       "   No of subjects  CC  WT  DSBDA       CGPA  Attendance\n",
       "0               4  76  54     64   9.268293        75.8\n",
       "1               4  64  41     51  10.000000        75.8\n",
       "2               4  81  46     64   8.536585        75.8"
      ]
     },
     "execution_count": 34,
     "metadata": {},
     "output_type": "execute_result"
    }
   ],
   "source": [
    "df = df[[\"No of subjects\", \"CC\", \"WT\", \"DSBDA\", \"CGPA\", \"Attendance\"]]\n",
    "\n",
    "q1 = df.quantile(0.25)\n",
    "q3 = df.quantile(0.75)\n",
    "iqr = q3 - q1\n",
    "\n",
    "lower_bound = q1 - 1.5*iqr\n",
    "upper_bound = q3 + 1.5*iqr\n",
    "\n",
    "outliers = ((df < lower_bound) | (df > upper_bound)).any(axis = 1)\n",
    "df_new = df[~outliers]\n",
    "df_new.head()"
   ]
  },
  {
   "cell_type": "code",
   "execution_count": 35,
   "id": "6cddb765",
   "metadata": {},
   "outputs": [
    {
     "data": {
      "text/plain": [
       "<Axes: >"
      ]
     },
     "execution_count": 35,
     "metadata": {},
     "output_type": "execute_result"
    },
    {
     "data": {
      "image/png": "[encoded data removed]",
      "text/plain": [
       "<Figure size 640x480 with 1 Axes>"
      ]
     },
     "metadata": {},
     "output_type": "display_data"
    }
   ],
   "source": [
    "df['CGPA'].plot(kind='box')"
   ]
  },
  {
   "cell_type": "code",
   "execution_count": null,
   "id": "ae04dee8",
   "metadata": {},
   "outputs": [],
   "source": []
  }
 ],
 "metadata": {
  "kernelspec": {
   "display_name": "Python 3 (ipykernel)",
   "language": "python",
   "name": "python3"
  },
  "language_info": {
   "codemirror_mode": {
    "name": "ipython",
    "version": 3
   },
   "file_extension": ".py",
   "mimetype": "text/x-python",
   "name": "python",
   "nbconvert_exporter": "python",
   "pygments_lexer": "ipython3",
   "version": "3.10.0"
  }
 },
 "nbformat": 4,
 "nbformat_minor": 5
}
