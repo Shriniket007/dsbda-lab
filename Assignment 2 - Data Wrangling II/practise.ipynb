{
 "cells": [
  {
   "cell_type": "code",
   "execution_count": 1,
   "id": "b49efffe",
   "metadata": {},
   "outputs": [],
   "source": [
    "import numpy as np\n",
    "import pandas as pd\n",
    "import matplotlib.pyplot as plt"
   ]
  },
  {
   "cell_type": "code",
   "execution_count": 3,
   "id": "1e940208",
   "metadata": {},
   "outputs": [
    {
     "data": {
      "text/html": [
       "<div>\n",
       "<style scoped>\n",
       "    .dataframe tbody tr th:only-of-type {\n",
       "        vertical-align: middle;\n",
       "    }\n",
       "\n",
       "    .dataframe tbody tr th {\n",
       "        vertical-align: top;\n",
       "    }\n",
       "\n",
       "    .dataframe thead th {\n",
       "        text-align: right;\n",
       "    }\n",
       "</style>\n",
       "<table border=\"1\" class=\"dataframe\">\n",
       "  <thead>\n",
       "    <tr style=\"text-align: right;\">\n",
       "      <th></th>\n",
       "      <th>Roll Number</th>\n",
       "      <th>First Name</th>\n",
       "      <th>Middle Initial</th>\n",
       "      <th>Last Name</th>\n",
       "      <th>Gender</th>\n",
       "      <th>No of subjects</th>\n",
       "      <th>CC</th>\n",
       "      <th>WT</th>\n",
       "      <th>AI</th>\n",
       "      <th>DSBDA</th>\n",
       "      <th>CGPA</th>\n",
       "      <th>Attendance</th>\n",
       "    </tr>\n",
       "  </thead>\n",
       "  <tbody>\n",
       "    <tr>\n",
       "      <th>0</th>\n",
       "      <td>31401.0</td>\n",
       "      <td>Lois</td>\n",
       "      <td>H</td>\n",
       "      <td>Walker</td>\n",
       "      <td>F</td>\n",
       "      <td>4</td>\n",
       "      <td>76</td>\n",
       "      <td>54</td>\n",
       "      <td>56</td>\n",
       "      <td>64</td>\n",
       "      <td>62.50</td>\n",
       "      <td>89</td>\n",
       "    </tr>\n",
       "    <tr>\n",
       "      <th>1</th>\n",
       "      <td>31402.0</td>\n",
       "      <td>Brenda</td>\n",
       "      <td>S</td>\n",
       "      <td>Robinson</td>\n",
       "      <td>F</td>\n",
       "      <td>4</td>\n",
       "      <td>64</td>\n",
       "      <td>41</td>\n",
       "      <td>97</td>\n",
       "      <td>51</td>\n",
       "      <td>63.25</td>\n",
       "      <td>95</td>\n",
       "    </tr>\n",
       "    <tr>\n",
       "      <th>2</th>\n",
       "      <td>31403.0</td>\n",
       "      <td>Joe</td>\n",
       "      <td>W</td>\n",
       "      <td>Robinson</td>\n",
       "      <td>M</td>\n",
       "      <td>4</td>\n",
       "      <td>81</td>\n",
       "      <td>46</td>\n",
       "      <td>56</td>\n",
       "      <td>64</td>\n",
       "      <td>61.75</td>\n",
       "      <td>70</td>\n",
       "    </tr>\n",
       "    <tr>\n",
       "      <th>3</th>\n",
       "      <td>31404.0</td>\n",
       "      <td>Diane</td>\n",
       "      <td>I</td>\n",
       "      <td>Evans</td>\n",
       "      <td>F</td>\n",
       "      <td>4</td>\n",
       "      <td>48</td>\n",
       "      <td>60</td>\n",
       "      <td>60</td>\n",
       "      <td>44</td>\n",
       "      <td>53.00</td>\n",
       "      <td>61</td>\n",
       "    </tr>\n",
       "    <tr>\n",
       "      <th>4</th>\n",
       "      <td>NaN</td>\n",
       "      <td>Benjamin</td>\n",
       "      <td>R</td>\n",
       "      <td>Russell</td>\n",
       "      <td>M</td>\n",
       "      <td>4</td>\n",
       "      <td>55</td>\n",
       "      <td>58</td>\n",
       "      <td>78</td>\n",
       "      <td>47</td>\n",
       "      <td>59.50</td>\n",
       "      <td>64</td>\n",
       "    </tr>\n",
       "  </tbody>\n",
       "</table>\n",
       "</div>"
      ],
      "text/plain": [
       "   Roll Number First Name Middle Initial Last Name Gender  No of subjects  CC   \n",
       "0      31401.0       Lois              H    Walker      F               4  76  \\\n",
       "1      31402.0     Brenda              S  Robinson      F               4  64   \n",
       "2      31403.0        Joe              W  Robinson      M               4  81   \n",
       "3      31404.0      Diane              I     Evans      F               4  48   \n",
       "4          NaN   Benjamin              R   Russell      M               4  55   \n",
       "\n",
       "   WT  AI  DSBDA   CGPA  Attendance  \n",
       "0  54  56     64  62.50          89  \n",
       "1  41  97     51  63.25          95  \n",
       "2  46  56     64  61.75          70  \n",
       "3  60  60     44  53.00          61  \n",
       "4  58  78     47  59.50          64  "
      ]
     },
     "execution_count": 3,
     "metadata": {},
     "output_type": "execute_result"
    }
   ],
   "source": [
    "df = pd.read_csv(\"student_data_1.csv\")\n",
    "df.head()"
   ]
  },
  {
   "cell_type": "code",
   "execution_count": 4,
   "id": "9cb88814",
   "metadata": {},
   "outputs": [
    {
     "name": "stdout",
     "output_type": "stream",
     "text": [
      "<class 'pandas.core.frame.DataFrame'>\n",
      "RangeIndex: 5 entries, 0 to 4\n",
      "Data columns (total 12 columns):\n",
      " #   Column          Non-Null Count  Dtype  \n",
      "---  ------          --------------  -----  \n",
      " 0   Roll Number     4 non-null      float64\n",
      " 1   First Name      5 non-null      object \n",
      " 2   Middle Initial  5 non-null      object \n",
      " 3   Last Name       5 non-null      object \n",
      " 4   Gender          5 non-null      object \n",
      " 5   No of subjects  5 non-null      int64  \n",
      " 6   CC              5 non-null      int64  \n",
      " 7   WT              5 non-null      int64  \n",
      " 8   AI              5 non-null      int64  \n",
      " 9   DSBDA           5 non-null      int64  \n",
      " 10  CGPA            5 non-null      float64\n",
      " 11  Attendance      5 non-null      int64  \n",
      "dtypes: float64(2), int64(6), object(4)\n",
      "memory usage: 608.0+ bytes\n"
     ]
    }
   ],
   "source": [
    "df.info()"
   ]
  },
  {
   "cell_type": "code",
   "execution_count": 6,
   "id": "402d12ee",
   "metadata": {},
   "outputs": [
    {
     "data": {
      "text/plain": [
       "(5, 12)"
      ]
     },
     "execution_count": 6,
     "metadata": {},
     "output_type": "execute_result"
    }
   ],
   "source": [
    "df.shape"
   ]
  },
  {
   "cell_type": "code",
   "execution_count": 7,
   "id": "39cb5074",
   "metadata": {},
   "outputs": [
    {
     "data": {
      "text/html": [
       "<div>\n",
       "<style scoped>\n",
       "    .dataframe tbody tr th:only-of-type {\n",
       "        vertical-align: middle;\n",
       "    }\n",
       "\n",
       "    .dataframe tbody tr th {\n",
       "        vertical-align: top;\n",
       "    }\n",
       "\n",
       "    .dataframe thead th {\n",
       "        text-align: right;\n",
       "    }\n",
       "</style>\n",
       "<table border=\"1\" class=\"dataframe\">\n",
       "  <thead>\n",
       "    <tr style=\"text-align: right;\">\n",
       "      <th></th>\n",
       "      <th>Roll Number</th>\n",
       "      <th>No of subjects</th>\n",
       "      <th>CC</th>\n",
       "      <th>WT</th>\n",
       "      <th>AI</th>\n",
       "      <th>DSBDA</th>\n",
       "      <th>CGPA</th>\n",
       "      <th>Attendance</th>\n",
       "    </tr>\n",
       "  </thead>\n",
       "  <tbody>\n",
       "    <tr>\n",
       "      <th>count</th>\n",
       "      <td>4.000000</td>\n",
       "      <td>5.0</td>\n",
       "      <td>5.000000</td>\n",
       "      <td>5.000000</td>\n",
       "      <td>5.000000</td>\n",
       "      <td>5.000000</td>\n",
       "      <td>5.000000</td>\n",
       "      <td>5.00000</td>\n",
       "    </tr>\n",
       "    <tr>\n",
       "      <th>mean</th>\n",
       "      <td>31402.500000</td>\n",
       "      <td>4.0</td>\n",
       "      <td>64.800000</td>\n",
       "      <td>51.800000</td>\n",
       "      <td>69.400000</td>\n",
       "      <td>54.000000</td>\n",
       "      <td>60.000000</td>\n",
       "      <td>75.80000</td>\n",
       "    </tr>\n",
       "    <tr>\n",
       "      <th>std</th>\n",
       "      <td>1.290994</td>\n",
       "      <td>0.0</td>\n",
       "      <td>13.845577</td>\n",
       "      <td>8.074652</td>\n",
       "      <td>17.910891</td>\n",
       "      <td>9.460444</td>\n",
       "      <td>4.157072</td>\n",
       "      <td>15.28725</td>\n",
       "    </tr>\n",
       "    <tr>\n",
       "      <th>min</th>\n",
       "      <td>31401.000000</td>\n",
       "      <td>4.0</td>\n",
       "      <td>48.000000</td>\n",
       "      <td>41.000000</td>\n",
       "      <td>56.000000</td>\n",
       "      <td>44.000000</td>\n",
       "      <td>53.000000</td>\n",
       "      <td>61.00000</td>\n",
       "    </tr>\n",
       "    <tr>\n",
       "      <th>25%</th>\n",
       "      <td>31401.750000</td>\n",
       "      <td>4.0</td>\n",
       "      <td>55.000000</td>\n",
       "      <td>46.000000</td>\n",
       "      <td>56.000000</td>\n",
       "      <td>47.000000</td>\n",
       "      <td>59.500000</td>\n",
       "      <td>64.00000</td>\n",
       "    </tr>\n",
       "    <tr>\n",
       "      <th>50%</th>\n",
       "      <td>31402.500000</td>\n",
       "      <td>4.0</td>\n",
       "      <td>64.000000</td>\n",
       "      <td>54.000000</td>\n",
       "      <td>60.000000</td>\n",
       "      <td>51.000000</td>\n",
       "      <td>61.750000</td>\n",
       "      <td>70.00000</td>\n",
       "    </tr>\n",
       "    <tr>\n",
       "      <th>75%</th>\n",
       "      <td>31403.250000</td>\n",
       "      <td>4.0</td>\n",
       "      <td>76.000000</td>\n",
       "      <td>58.000000</td>\n",
       "      <td>78.000000</td>\n",
       "      <td>64.000000</td>\n",
       "      <td>62.500000</td>\n",
       "      <td>89.00000</td>\n",
       "    </tr>\n",
       "    <tr>\n",
       "      <th>max</th>\n",
       "      <td>31404.000000</td>\n",
       "      <td>4.0</td>\n",
       "      <td>81.000000</td>\n",
       "      <td>60.000000</td>\n",
       "      <td>97.000000</td>\n",
       "      <td>64.000000</td>\n",
       "      <td>63.250000</td>\n",
       "      <td>95.00000</td>\n",
       "    </tr>\n",
       "  </tbody>\n",
       "</table>\n",
       "</div>"
      ],
      "text/plain": [
       "        Roll Number  No of subjects         CC         WT         AI   \n",
       "count      4.000000             5.0   5.000000   5.000000   5.000000  \\\n",
       "mean   31402.500000             4.0  64.800000  51.800000  69.400000   \n",
       "std        1.290994             0.0  13.845577   8.074652  17.910891   \n",
       "min    31401.000000             4.0  48.000000  41.000000  56.000000   \n",
       "25%    31401.750000             4.0  55.000000  46.000000  56.000000   \n",
       "50%    31402.500000             4.0  64.000000  54.000000  60.000000   \n",
       "75%    31403.250000             4.0  76.000000  58.000000  78.000000   \n",
       "max    31404.000000             4.0  81.000000  60.000000  97.000000   \n",
       "\n",
       "           DSBDA       CGPA  Attendance  \n",
       "count   5.000000   5.000000     5.00000  \n",
       "mean   54.000000  60.000000    75.80000  \n",
       "std     9.460444   4.157072    15.28725  \n",
       "min    44.000000  53.000000    61.00000  \n",
       "25%    47.000000  59.500000    64.00000  \n",
       "50%    51.000000  61.750000    70.00000  \n",
       "75%    64.000000  62.500000    89.00000  \n",
       "max    64.000000  63.250000    95.00000  "
      ]
     },
     "execution_count": 7,
     "metadata": {},
     "output_type": "execute_result"
    }
   ],
   "source": [
    "df.describe()"
   ]
  },
  {
   "cell_type": "code",
   "execution_count": 8,
   "id": "2ca862bd",
   "metadata": {},
   "outputs": [
    {
     "data": {
      "text/plain": [
       "Roll Number       float64\n",
       "First Name         object\n",
       "Middle Initial     object\n",
       "Last Name          object\n",
       "Gender             object\n",
       "No of subjects      int64\n",
       "CC                  int64\n",
       "WT                  int64\n",
       "AI                  int64\n",
       "DSBDA               int64\n",
       "CGPA              float64\n",
       "Attendance          int64\n",
       "dtype: object"
      ]
     },
     "execution_count": 8,
     "metadata": {},
     "output_type": "execute_result"
    }
   ],
   "source": [
    "df.dtypes"
   ]
  },
  {
   "cell_type": "code",
   "execution_count": 9,
   "id": "379e30be",
   "metadata": {},
   "outputs": [
    {
     "data": {
      "text/html": [
       "<div>\n",
       "<style scoped>\n",
       "    .dataframe tbody tr th:only-of-type {\n",
       "        vertical-align: middle;\n",
       "    }\n",
       "\n",
       "    .dataframe tbody tr th {\n",
       "        vertical-align: top;\n",
       "    }\n",
       "\n",
       "    .dataframe thead th {\n",
       "        text-align: right;\n",
       "    }\n",
       "</style>\n",
       "<table border=\"1\" class=\"dataframe\">\n",
       "  <thead>\n",
       "    <tr style=\"text-align: right;\">\n",
       "      <th></th>\n",
       "      <th>Roll Number</th>\n",
       "      <th>First Name</th>\n",
       "      <th>Middle Initial</th>\n",
       "      <th>Last Name</th>\n",
       "      <th>Gender</th>\n",
       "      <th>No of subjects</th>\n",
       "      <th>CC</th>\n",
       "      <th>WT</th>\n",
       "      <th>AI</th>\n",
       "      <th>DSBDA</th>\n",
       "      <th>CGPA</th>\n",
       "      <th>Attendance</th>\n",
       "    </tr>\n",
       "  </thead>\n",
       "  <tbody>\n",
       "    <tr>\n",
       "      <th>0</th>\n",
       "      <td>31401.0</td>\n",
       "      <td>Lois</td>\n",
       "      <td>H</td>\n",
       "      <td>Walker</td>\n",
       "      <td>F</td>\n",
       "      <td>4</td>\n",
       "      <td>76</td>\n",
       "      <td>54</td>\n",
       "      <td>56</td>\n",
       "      <td>64</td>\n",
       "      <td>62.50</td>\n",
       "      <td>89</td>\n",
       "    </tr>\n",
       "    <tr>\n",
       "      <th>1</th>\n",
       "      <td>31402.0</td>\n",
       "      <td>Brenda</td>\n",
       "      <td>S</td>\n",
       "      <td>Robinson</td>\n",
       "      <td>F</td>\n",
       "      <td>4</td>\n",
       "      <td>64</td>\n",
       "      <td>41</td>\n",
       "      <td>97</td>\n",
       "      <td>51</td>\n",
       "      <td>63.25</td>\n",
       "      <td>95</td>\n",
       "    </tr>\n",
       "    <tr>\n",
       "      <th>2</th>\n",
       "      <td>31403.0</td>\n",
       "      <td>Joe</td>\n",
       "      <td>W</td>\n",
       "      <td>Robinson</td>\n",
       "      <td>M</td>\n",
       "      <td>4</td>\n",
       "      <td>81</td>\n",
       "      <td>46</td>\n",
       "      <td>56</td>\n",
       "      <td>64</td>\n",
       "      <td>61.75</td>\n",
       "      <td>70</td>\n",
       "    </tr>\n",
       "    <tr>\n",
       "      <th>3</th>\n",
       "      <td>31404.0</td>\n",
       "      <td>Diane</td>\n",
       "      <td>I</td>\n",
       "      <td>Evans</td>\n",
       "      <td>F</td>\n",
       "      <td>4</td>\n",
       "      <td>48</td>\n",
       "      <td>60</td>\n",
       "      <td>60</td>\n",
       "      <td>44</td>\n",
       "      <td>53.00</td>\n",
       "      <td>61</td>\n",
       "    </tr>\n",
       "    <tr>\n",
       "      <th>4</th>\n",
       "      <td>NaN</td>\n",
       "      <td>Benjamin</td>\n",
       "      <td>R</td>\n",
       "      <td>Russell</td>\n",
       "      <td>M</td>\n",
       "      <td>4</td>\n",
       "      <td>55</td>\n",
       "      <td>58</td>\n",
       "      <td>78</td>\n",
       "      <td>47</td>\n",
       "      <td>59.50</td>\n",
       "      <td>64</td>\n",
       "    </tr>\n",
       "  </tbody>\n",
       "</table>\n",
       "</div>"
      ],
      "text/plain": [
       "   Roll Number First Name Middle Initial Last Name Gender  No of subjects  CC   \n",
       "0      31401.0       Lois              H    Walker      F               4  76  \\\n",
       "1      31402.0     Brenda              S  Robinson      F               4  64   \n",
       "2      31403.0        Joe              W  Robinson      M               4  81   \n",
       "3      31404.0      Diane              I     Evans      F               4  48   \n",
       "4          NaN   Benjamin              R   Russell      M               4  55   \n",
       "\n",
       "   WT  AI  DSBDA   CGPA  Attendance  \n",
       "0  54  56     64  62.50          89  \n",
       "1  41  97     51  63.25          95  \n",
       "2  46  56     64  61.75          70  \n",
       "3  60  60     44  53.00          61  \n",
       "4  58  78     47  59.50          64  "
      ]
     },
     "execution_count": 9,
     "metadata": {},
     "output_type": "execute_result"
    }
   ],
   "source": [
    "df.head()"
   ]
  },
  {
   "cell_type": "code",
   "execution_count": 10,
   "id": "dea3928b",
   "metadata": {},
   "outputs": [
    {
     "data": {
      "text/plain": [
       "Roll Number       1\n",
       "First Name        0\n",
       "Middle Initial    0\n",
       "Last Name         0\n",
       "Gender            0\n",
       "No of subjects    0\n",
       "CC                0\n",
       "WT                0\n",
       "AI                0\n",
       "DSBDA             0\n",
       "CGPA              0\n",
       "Attendance        0\n",
       "dtype: int64"
      ]
     },
     "execution_count": 10,
     "metadata": {},
     "output_type": "execute_result"
    }
   ],
   "source": [
    "df.isnull().sum()"
   ]
  },
  {
   "cell_type": "code",
   "execution_count": 12,
   "id": "36ddf3d2",
   "metadata": {},
   "outputs": [],
   "source": [
    "mean = df[\"Attendance\"].mean()\n",
    "df[\"Attendance\"].replace(np.NaN, mean, inplace = True)"
   ]
  },
  {
   "cell_type": "code",
   "execution_count": 13,
   "id": "a57fb7c1",
   "metadata": {},
   "outputs": [
    {
     "data": {
      "text/plain": [
       "Roll Number       1\n",
       "First Name        0\n",
       "Middle Initial    0\n",
       "Last Name         0\n",
       "Gender            0\n",
       "No of subjects    0\n",
       "CC                0\n",
       "WT                0\n",
       "AI                0\n",
       "DSBDA             0\n",
       "CGPA              0\n",
       "Attendance        0\n",
       "dtype: int64"
      ]
     },
     "execution_count": 13,
     "metadata": {},
     "output_type": "execute_result"
    }
   ],
   "source": [
    "df.isnull().sum()"
   ]
  },
  {
   "cell_type": "code",
   "execution_count": 18,
   "id": "c555f10d",
   "metadata": {},
   "outputs": [],
   "source": [
    "from sklearn.preprocessing import MinMaxScaler\n",
    "scaler = MinMaxScaler(feature_range = (0,10))\n",
    "data_2d = df[\"CGPA\"].values.reshape(-1, 1)\n",
    "df[\"CGPA\"] = scaler.fit_transform(data_2d)"
   ]
  },
  {
   "cell_type": "code",
   "execution_count": 19,
   "id": "90096514",
   "metadata": {},
   "outputs": [
    {
     "data": {
      "text/html": [
       "<div>\n",
       "<style scoped>\n",
       "    .dataframe tbody tr th:only-of-type {\n",
       "        vertical-align: middle;\n",
       "    }\n",
       "\n",
       "    .dataframe tbody tr th {\n",
       "        vertical-align: top;\n",
       "    }\n",
       "\n",
       "    .dataframe thead th {\n",
       "        text-align: right;\n",
       "    }\n",
       "</style>\n",
       "<table border=\"1\" class=\"dataframe\">\n",
       "  <thead>\n",
       "    <tr style=\"text-align: right;\">\n",
       "      <th></th>\n",
       "      <th>Roll Number</th>\n",
       "      <th>First Name</th>\n",
       "      <th>Middle Initial</th>\n",
       "      <th>Last Name</th>\n",
       "      <th>Gender</th>\n",
       "      <th>No of subjects</th>\n",
       "      <th>CC</th>\n",
       "      <th>WT</th>\n",
       "      <th>AI</th>\n",
       "      <th>DSBDA</th>\n",
       "      <th>CGPA</th>\n",
       "      <th>Attendance</th>\n",
       "    </tr>\n",
       "  </thead>\n",
       "  <tbody>\n",
       "    <tr>\n",
       "      <th>0</th>\n",
       "      <td>31401.0</td>\n",
       "      <td>Lois</td>\n",
       "      <td>H</td>\n",
       "      <td>Walker</td>\n",
       "      <td>F</td>\n",
       "      <td>4</td>\n",
       "      <td>76</td>\n",
       "      <td>54</td>\n",
       "      <td>56</td>\n",
       "      <td>64</td>\n",
       "      <td>9.268293</td>\n",
       "      <td>89</td>\n",
       "    </tr>\n",
       "    <tr>\n",
       "      <th>1</th>\n",
       "      <td>31402.0</td>\n",
       "      <td>Brenda</td>\n",
       "      <td>S</td>\n",
       "      <td>Robinson</td>\n",
       "      <td>F</td>\n",
       "      <td>4</td>\n",
       "      <td>64</td>\n",
       "      <td>41</td>\n",
       "      <td>97</td>\n",
       "      <td>51</td>\n",
       "      <td>10.000000</td>\n",
       "      <td>95</td>\n",
       "    </tr>\n",
       "    <tr>\n",
       "      <th>2</th>\n",
       "      <td>31403.0</td>\n",
       "      <td>Joe</td>\n",
       "      <td>W</td>\n",
       "      <td>Robinson</td>\n",
       "      <td>M</td>\n",
       "      <td>4</td>\n",
       "      <td>81</td>\n",
       "      <td>46</td>\n",
       "      <td>56</td>\n",
       "      <td>64</td>\n",
       "      <td>8.536585</td>\n",
       "      <td>70</td>\n",
       "    </tr>\n",
       "    <tr>\n",
       "      <th>3</th>\n",
       "      <td>31404.0</td>\n",
       "      <td>Diane</td>\n",
       "      <td>I</td>\n",
       "      <td>Evans</td>\n",
       "      <td>F</td>\n",
       "      <td>4</td>\n",
       "      <td>48</td>\n",
       "      <td>60</td>\n",
       "      <td>60</td>\n",
       "      <td>44</td>\n",
       "      <td>0.000000</td>\n",
       "      <td>61</td>\n",
       "    </tr>\n",
       "    <tr>\n",
       "      <th>4</th>\n",
       "      <td>NaN</td>\n",
       "      <td>Benjamin</td>\n",
       "      <td>R</td>\n",
       "      <td>Russell</td>\n",
       "      <td>M</td>\n",
       "      <td>4</td>\n",
       "      <td>55</td>\n",
       "      <td>58</td>\n",
       "      <td>78</td>\n",
       "      <td>47</td>\n",
       "      <td>6.341463</td>\n",
       "      <td>64</td>\n",
       "    </tr>\n",
       "  </tbody>\n",
       "</table>\n",
       "</div>"
      ],
      "text/plain": [
       "   Roll Number First Name Middle Initial Last Name Gender  No of subjects  CC   \n",
       "0      31401.0       Lois              H    Walker      F               4  76  \\\n",
       "1      31402.0     Brenda              S  Robinson      F               4  64   \n",
       "2      31403.0        Joe              W  Robinson      M               4  81   \n",
       "3      31404.0      Diane              I     Evans      F               4  48   \n",
       "4          NaN   Benjamin              R   Russell      M               4  55   \n",
       "\n",
       "   WT  AI  DSBDA       CGPA  Attendance  \n",
       "0  54  56     64   9.268293          89  \n",
       "1  41  97     51  10.000000          95  \n",
       "2  46  56     64   8.536585          70  \n",
       "3  60  60     44   0.000000          61  \n",
       "4  58  78     47   6.341463          64  "
      ]
     },
     "execution_count": 19,
     "metadata": {},
     "output_type": "execute_result"
    }
   ],
   "source": [
    "df.head()"
   ]
  },
  {
   "cell_type": "code",
   "execution_count": 20,
   "id": "b3ba520b",
   "metadata": {},
   "outputs": [
    {
     "data": {
      "text/plain": [
       "0.0"
      ]
     },
     "execution_count": 20,
     "metadata": {},
     "output_type": "execute_result"
    }
   ],
   "source": [
    "df[\"CGPA\"].min()"
   ]
  },
  {
   "cell_type": "code",
   "execution_count": 23,
   "id": "1a7bdcd7",
   "metadata": {},
   "outputs": [
    {
     "data": {
      "text/plain": [
       "10.0"
      ]
     },
     "execution_count": 23,
     "metadata": {},
     "output_type": "execute_result"
    }
   ],
   "source": [
    "df[\"CGPA\"].max()"
   ]
  },
  {
   "cell_type": "code",
   "execution_count": 26,
   "id": "c8a73995",
   "metadata": {},
   "outputs": [
    {
     "data": {
      "text/plain": [
       "<Axes: ylabel='Frequency'>"
      ]
     },
     "execution_count": 26,
     "metadata": {},
     "output_type": "execute_result"
    },
    {
     "data": {
      "image/png": "[encoded data removed]",
      "text/plain": [
       "<Figure size 640x480 with 1 Axes>"
      ]
     },
     "metadata": {},
     "output_type": "display_data"
    }
   ],
   "source": [
    "df[\"CGPA\"].plot(kind = \"hist\")"
   ]
  },
  {
   "cell_type": "code",
   "execution_count": 27,
   "id": "6f506cb2",
   "metadata": {},
   "outputs": [
    {
     "data": {
      "text/plain": [
       "<Axes: >"
      ]
     },
     "execution_count": 27,
     "metadata": {},
     "output_type": "execute_result"
    },
    {
     "data": {
      "image/png": "[encoded data removed]",
      "text/plain": [
       "<Figure size 640x480 with 1 Axes>"
      ]
     },
     "metadata": {},
     "output_type": "display_data"
    }
   ],
   "source": [
    "df[\"CGPA\"].plot(kind = \"box\")"
   ]
  },
  {
   "cell_type": "code",
   "execution_count": null,
   "id": "f28f6844",
   "metadata": {},
   "outputs": [],
   "source": [
    "\n"
   ]
  },
  {
   "cell_type": "code",
   "execution_count": null,
   "id": "e8ce8bfa",
   "metadata": {},
   "outputs": [],
   "source": []
  }
 ],
 "metadata": {
  "kernelspec": {
   "display_name": "Python 3 (ipykernel)",
   "language": "python",
   "name": "python3"
  },
  "language_info": {
   "codemirror_mode": {
    "name": "ipython",
    "version": 3
   },
   "file_extension": ".py",
   "mimetype": "text/x-python",
   "name": "python",
   "nbconvert_exporter": "python",
   "pygments_lexer": "ipython3",
   "version": "3.10.0"
  }
 },
 "nbformat": 4,
 "nbformat_minor": 5
}
