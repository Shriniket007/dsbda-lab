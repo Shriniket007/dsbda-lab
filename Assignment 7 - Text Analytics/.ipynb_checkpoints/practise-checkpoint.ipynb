{
 "cells": [
  {
   "cell_type": "code",
   "execution_count": 19,
   "id": "78fc84da",
   "metadata": {},
   "outputs": [],
   "source": [
    "import nltk\n",
    "text = \"We Need To Tokenize The Text And Perform Analysis Activities\""
   ]
  },
  {
   "cell_type": "code",
   "execution_count": 20,
   "id": "9484da04",
   "metadata": {},
   "outputs": [
    {
     "name": "stdout",
     "output_type": "stream",
     "text": [
      "we need to tokenize the text and perform analysis activities\n"
     ]
    }
   ],
   "source": [
    "# lower case\n",
    "\n",
    "text = text.lower()\n",
    "print(text)"
   ]
  },
  {
   "cell_type": "code",
   "execution_count": 21,
   "id": "f324d622",
   "metadata": {},
   "outputs": [
    {
     "name": "stderr",
     "output_type": "stream",
     "text": [
      "[nltk_data] Downloading package punkt to\n",
      "[nltk_data]     C:\\Users\\SHRINIKET\\AppData\\Roaming\\nltk_data...\n",
      "[nltk_data]   Package punkt is already up-to-date!\n"
     ]
    },
    {
     "data": {
      "text/plain": [
       "True"
      ]
     },
     "execution_count": 21,
     "metadata": {},
     "output_type": "execute_result"
    }
   ],
   "source": [
    "nltk.download(\"punkt\")"
   ]
  },
  {
   "cell_type": "code",
   "execution_count": 22,
   "id": "a5970933",
   "metadata": {},
   "outputs": [
    {
     "name": "stdout",
     "output_type": "stream",
     "text": [
      "['we', 'need', 'to', 'tokenize', 'the', 'text', 'and', 'perform', 'analysis', 'activities']\n"
     ]
    }
   ],
   "source": [
    "# tokenization\n",
    "\n",
    "from nltk.tokenize import word_tokenize\n",
    "tokens = word_tokenize(text)\n",
    "print(tokens)"
   ]
  },
  {
   "cell_type": "code",
   "execution_count": 23,
   "id": "22433e99",
   "metadata": {},
   "outputs": [
    {
     "name": "stderr",
     "output_type": "stream",
     "text": [
      "[nltk_data] Downloading package stopwords to\n",
      "[nltk_data]     C:\\Users\\SHRINIKET\\AppData\\Roaming\\nltk_data...\n",
      "[nltk_data]   Package stopwords is already up-to-date!\n"
     ]
    },
    {
     "data": {
      "text/plain": [
       "True"
      ]
     },
     "execution_count": 23,
     "metadata": {},
     "output_type": "execute_result"
    }
   ],
   "source": [
    "nltk.download(\"stopwords\")"
   ]
  },
  {
   "cell_type": "code",
   "execution_count": 25,
   "id": "945c1eef",
   "metadata": {},
   "outputs": [
    {
     "name": "stdout",
     "output_type": "stream",
     "text": [
      "['need', 'tokenize', 'text', 'perform', 'analysis', 'activities']\n"
     ]
    }
   ],
   "source": [
    "# stop words removal\n",
    "\n",
    "from nltk.corpus import stopwords\n",
    "stop_words = set(stopwords.words(\"english\"))\n",
    "filtered_text = [word for word in tokens if word not in stop_words]\n",
    "print(filtered_text)"
   ]
  },
  {
   "cell_type": "code",
   "execution_count": 27,
   "id": "3a9795ac",
   "metadata": {},
   "outputs": [
    {
     "name": "stdout",
     "output_type": "stream",
     "text": [
      "['we', 'need', 'to', 'token', 'the', 'text', 'and', 'perform', 'analysi', 'activ']\n"
     ]
    }
   ],
   "source": [
    "# stemming\n",
    "\n",
    "from nltk.stem import PorterStemmer\n",
    "stemmer = PorterStemmer()\n",
    "stem_tokens = [stemmer.stem(word) for word in tokens]\n",
    "print(stem_tokens)"
   ]
  },
  {
   "cell_type": "code",
   "execution_count": 28,
   "id": "a8395aee",
   "metadata": {},
   "outputs": [
    {
     "name": "stdout",
     "output_type": "stream",
     "text": [
      "[('we', 'PRP'), ('need', 'VBP'), ('to', 'TO'), ('tokenize', 'VB'), ('the', 'DT'), ('text', 'NN'), ('and', 'CC'), ('perform', 'VB'), ('analysis', 'NN'), ('activities', 'NNS')]\n"
     ]
    }
   ],
   "source": [
    "# pos tagging\n",
    "\n",
    "from nltk import pos_tag\n",
    "postags = pos_tag(tokens)\n",
    "print(postags)"
   ]
  },
  {
   "cell_type": "code",
   "execution_count": 31,
   "id": "145d52c9",
   "metadata": {},
   "outputs": [
    {
     "name": "stdout",
     "output_type": "stream",
     "text": [
      "['we', 'need', 'to', 'tokenize', 'the', 'text', 'and', 'perform', 'analysis', 'activity']\n"
     ]
    }
   ],
   "source": [
    "# lemmatization\n",
    "\n",
    "from nltk.stem import WordNetLemmatizer\n",
    "lemmatizer = WordNetLemmatizer()\n",
    "lemma_tokens = [lemmatizer.lemmatize(word) for word in tokens]\n",
    "print(lemma_tokens)"
   ]
  },
  {
   "cell_type": "code",
   "execution_count": 42,
   "id": "7adc4ef6",
   "metadata": {},
   "outputs": [],
   "source": [
    "# tf idf\n",
    "d0 = \"This is Document 1\"\n",
    "d1 = \"Document 2\"\n",
    "d3 = \"Document 3\"\n",
    "\n",
    "documents = [d0, d1, d2]\n",
    "\n",
    "from sklearn.feature_extraction.text import TfidfVectorizer\n",
    "vectorizer = TfidfVectorizer()\n"
   ]
  },
  {
   "cell_type": "code",
   "execution_count": null,
   "id": "c1cd5fad",
   "metadata": {},
   "outputs": [],
   "source": []
  }
 ],
 "metadata": {
  "kernelspec": {
   "display_name": "Python 3 (ipykernel)",
   "language": "python",
   "name": "python3"
  },
  "language_info": {
   "codemirror_mode": {
    "name": "ipython",
    "version": 3
   },
   "file_extension": ".py",
   "mimetype": "text/x-python",
   "name": "python",
   "nbconvert_exporter": "python",
   "pygments_lexer": "ipython3",
   "version": "3.10.0"
  }
 },
 "nbformat": 4,
 "nbformat_minor": 5
}
